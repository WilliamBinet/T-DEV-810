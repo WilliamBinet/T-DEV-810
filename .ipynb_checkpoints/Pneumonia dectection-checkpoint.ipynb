{
 "cells": [
  {
   "cell_type": "markdown",
   "metadata": {},
   "source": [
    "## Keras"
   ]
  },
  {
   "cell_type": "code",
   "execution_count": null,
   "metadata": {
    "pycharm": {
     "is_executing": true,
     "name": "#%%\n"
    }
   },
   "outputs": [],
   "source": [
    "import tensorflow as tf\n",
    "from tensorflow.keras.preprocessing.image import ImageDataGenerator\n",
    "from tensorflow.keras.models import Sequential\n",
    "from tensorflow.keras.layers import Conv2D\n",
    "from tensorflow.keras.layers import MaxPooling2D\n",
    "from tensorflow.keras.layers import Dense\n",
    "from tensorflow.keras.layers import Flatten\n",
    "import matplotlib.pyplot as plt"
   ]
  },
  {
   "cell_type": "code",
   "execution_count": 2,
   "metadata": {
    "pycharm": {
     "is_executing": true,
     "name": "#%%\n"
    }
   },
   "outputs": [
    {
     "name": "stdout",
     "output_type": "stream",
     "text": [
      "[PhysicalDevice(name='/physical_device:GPU:0', device_type='GPU')]\n"
     ]
    }
   ],
   "source": [
    "print(tf.config.experimental.list_physical_devices('GPU'))\n",
    "classifier = Sequential()\n",
    "classifier.add(Conv2D(24, (3, 3), input_shape=(64, 64, 3), activation='relu'))\n",
    "classifier.add(MaxPooling2D(pool_size=(2, 2)))\n",
    "classifier.add(Conv2D(24, (3, 3), activation='relu'))\n",
    "classifier.add(MaxPooling2D(pool_size=(2, 2)))\n",
    "classifier.add(Conv2D(24, (3, 3), activation='relu'))\n",
    "classifier.add(MaxPooling2D(pool_size=(2, 2)))\n",
    "classifier.add(Flatten())\n",
    "classifier.add(Dense(units=128, activation='relu'))\n",
    "classifier.add(Dense(units=1, activation='sigmoid'))\n",
    "classifier.compile(optimizer='adam', loss='binary_crossentropy', metrics=['accuracy'])"
   ]
  },
  {
   "cell_type": "code",
   "execution_count": 3,
   "metadata": {
    "pycharm": {
     "is_executing": true,
     "name": "#%%\n"
    }
   },
   "outputs": [
    {
     "name": "stdout",
     "output_type": "stream",
     "text": [
      "Found 5216 images belonging to 2 classes.\n",
      "Found 624 images belonging to 2 classes.\n",
      "WARNING:tensorflow:From <ipython-input-3-aca65f6958a0>:20: Model.fit_generator (from tensorflow.python.keras.engine.training) is deprecated and will be removed in a future version.\n",
      "Instructions for updating:\n",
      "Please use Model.fit, which supports generators.\n",
      "WARNING:tensorflow:sample_weight modes were coerced from\n",
      "  ...\n",
      "    to  \n",
      "  ['...']\n",
      "WARNING:tensorflow:sample_weight modes were coerced from\n",
      "  ...\n",
      "    to  \n",
      "  ['...']\n",
      "Train for 218 steps, validate for 26 steps\n",
      "Epoch 1/100\n",
      "218/218 [==============================] - 56s 256ms/step - loss: 0.4104 - accuracy: 0.8198 - val_loss: 0.3741 - val_accuracy: 0.8365\n",
      "Epoch 2/100\n",
      "218/218 [==============================] - 55s 251ms/step - loss: 0.2480 - accuracy: 0.8949 - val_loss: 0.3962 - val_accuracy: 0.8397\n",
      "Epoch 3/100\n",
      "218/218 [==============================] - 54s 248ms/step - loss: 0.2202 - accuracy: 0.9101 - val_loss: 0.3027 - val_accuracy: 0.8782\n",
      "Epoch 4/100\n",
      "218/218 [==============================] - 54s 248ms/step - loss: 0.1953 - accuracy: 0.9212 - val_loss: 0.4830 - val_accuracy: 0.8446\n",
      "Epoch 5/100\n",
      "218/218 [==============================] - 54s 249ms/step - loss: 0.1812 - accuracy: 0.9268 - val_loss: 0.3563 - val_accuracy: 0.8622\n",
      "Epoch 6/100\n",
      "218/218 [==============================] - 54s 248ms/step - loss: 0.1718 - accuracy: 0.9337 - val_loss: 0.3802 - val_accuracy: 0.8670\n",
      "Epoch 7/100\n",
      "218/218 [==============================] - 54s 250ms/step - loss: 0.1683 - accuracy: 0.9392 - val_loss: 0.4029 - val_accuracy: 0.8686\n",
      "Epoch 8/100\n",
      "218/218 [==============================] - 50s 227ms/step - loss: 0.1546 - accuracy: 0.9440 - val_loss: 0.3047 - val_accuracy: 0.8990\n",
      "Epoch 9/100\n",
      "218/218 [==============================] - 49s 227ms/step - loss: 0.1519 - accuracy: 0.9394 - val_loss: 0.5454 - val_accuracy: 0.7933\n",
      "Epoch 10/100\n",
      "218/218 [==============================] - 49s 227ms/step - loss: 0.1573 - accuracy: 0.9400 - val_loss: 0.3049 - val_accuracy: 0.8990\n",
      "Epoch 11/100\n",
      "218/218 [==============================] - 49s 226ms/step - loss: 0.1428 - accuracy: 0.9459 - val_loss: 0.2791 - val_accuracy: 0.9038\n",
      "Epoch 12/100\n",
      "218/218 [==============================] - 49s 227ms/step - loss: 0.1437 - accuracy: 0.9408 - val_loss: 0.3673 - val_accuracy: 0.8782\n",
      "Epoch 13/100\n",
      "218/218 [==============================] - 54s 249ms/step - loss: 0.1453 - accuracy: 0.9431 - val_loss: 0.4192 - val_accuracy: 0.8542\n",
      "Epoch 14/100\n",
      "218/218 [==============================] - 54s 249ms/step - loss: 0.1361 - accuracy: 0.9490 - val_loss: 0.4012 - val_accuracy: 0.8926\n",
      "Epoch 15/100\n",
      "218/218 [==============================] - 55s 250ms/step - loss: 0.1328 - accuracy: 0.9492 - val_loss: 0.3019 - val_accuracy: 0.9119\n",
      "Epoch 16/100\n",
      "218/218 [==============================] - 54s 249ms/step - loss: 0.1416 - accuracy: 0.9469 - val_loss: 0.3497 - val_accuracy: 0.8878\n",
      "Epoch 17/100\n",
      "218/218 [==============================] - 54s 248ms/step - loss: 0.1303 - accuracy: 0.9496 - val_loss: 0.2839 - val_accuracy: 0.8958\n",
      "Epoch 18/100\n",
      "218/218 [==============================] - 54s 249ms/step - loss: 0.1321 - accuracy: 0.9486 - val_loss: 0.3225 - val_accuracy: 0.9038\n",
      "Epoch 19/100\n",
      "218/218 [==============================] - 54s 249ms/step - loss: 0.1223 - accuracy: 0.9548 - val_loss: 0.3163 - val_accuracy: 0.9054\n",
      "Epoch 20/100\n",
      "218/218 [==============================] - 54s 249ms/step - loss: 0.1262 - accuracy: 0.9490 - val_loss: 0.3341 - val_accuracy: 0.8974\n",
      "Epoch 21/100\n",
      "218/218 [==============================] - 55s 251ms/step - loss: 0.1243 - accuracy: 0.9525 - val_loss: 0.3316 - val_accuracy: 0.9103\n",
      "Epoch 22/100\n",
      "218/218 [==============================] - 52s 239ms/step - loss: 0.1223 - accuracy: 0.9530 - val_loss: 0.2907 - val_accuracy: 0.9183\n",
      "Epoch 23/100\n",
      "218/218 [==============================] - 51s 235ms/step - loss: 0.1177 - accuracy: 0.9559 - val_loss: 0.3382 - val_accuracy: 0.8910\n",
      "Epoch 24/100\n",
      "218/218 [==============================] - 51s 233ms/step - loss: 0.1169 - accuracy: 0.9553 - val_loss: 0.3531 - val_accuracy: 0.9087\n",
      "Epoch 25/100\n",
      "218/218 [==============================] - 51s 234ms/step - loss: 0.1188 - accuracy: 0.9576 - val_loss: 0.4286 - val_accuracy: 0.8381\n",
      "Epoch 26/100\n",
      "218/218 [==============================] - 52s 239ms/step - loss: 0.1152 - accuracy: 0.9553 - val_loss: 0.3458 - val_accuracy: 0.9103\n",
      "Epoch 27/100\n",
      "218/218 [==============================] - 51s 234ms/step - loss: 0.1065 - accuracy: 0.9595 - val_loss: 0.3330 - val_accuracy: 0.9071\n",
      "Epoch 28/100\n",
      "218/218 [==============================] - 51s 235ms/step - loss: 0.1108 - accuracy: 0.9582 - val_loss: 0.3210 - val_accuracy: 0.9119\n",
      "Epoch 29/100\n",
      "218/218 [==============================] - 51s 234ms/step - loss: 0.1052 - accuracy: 0.9609 - val_loss: 0.4638 - val_accuracy: 0.8606\n",
      "Epoch 30/100\n",
      "218/218 [==============================] - 51s 234ms/step - loss: 0.1138 - accuracy: 0.9574 - val_loss: 0.3737 - val_accuracy: 0.8766\n",
      "Epoch 31/100\n",
      "218/218 [==============================] - 51s 234ms/step - loss: 0.1114 - accuracy: 0.9590 - val_loss: 0.3408 - val_accuracy: 0.8926\n",
      "Epoch 32/100\n",
      "218/218 [==============================] - 51s 235ms/step - loss: 0.1098 - accuracy: 0.9620 - val_loss: 0.3436 - val_accuracy: 0.8926\n",
      "Epoch 33/100\n",
      "218/218 [==============================] - 52s 239ms/step - loss: 0.1123 - accuracy: 0.9586 - val_loss: 0.4422 - val_accuracy: 0.8654\n",
      "Epoch 34/100\n",
      "218/218 [==============================] - 51s 236ms/step - loss: 0.1037 - accuracy: 0.9634 - val_loss: 0.3127 - val_accuracy: 0.9071\n",
      "Epoch 35/100\n",
      "218/218 [==============================] - 51s 235ms/step - loss: 0.1024 - accuracy: 0.9659 - val_loss: 0.3088 - val_accuracy: 0.9071\n",
      "Epoch 36/100\n",
      "218/218 [==============================] - 52s 240ms/step - loss: 0.0940 - accuracy: 0.9670 - val_loss: 0.4512 - val_accuracy: 0.8766\n",
      "Epoch 37/100\n",
      "218/218 [==============================] - 52s 240ms/step - loss: 0.1001 - accuracy: 0.9638 - val_loss: 0.2627 - val_accuracy: 0.9167\n",
      "Epoch 38/100\n",
      "218/218 [==============================] - 51s 236ms/step - loss: 0.1072 - accuracy: 0.9590 - val_loss: 0.2264 - val_accuracy: 0.9247\n",
      "Epoch 39/100\n",
      "218/218 [==============================] - 55s 252ms/step - loss: 0.1002 - accuracy: 0.9618 - val_loss: 0.5448 - val_accuracy: 0.8862\n",
      "Epoch 40/100\n",
      "218/218 [==============================] - 66s 302ms/step - loss: 0.0974 - accuracy: 0.9634 - val_loss: 0.3243 - val_accuracy: 0.8990\n",
      "Epoch 41/100\n",
      "218/218 [==============================] - 63s 290ms/step - loss: 0.0974 - accuracy: 0.9595 - val_loss: 0.2799 - val_accuracy: 0.9199\n",
      "Epoch 42/100\n",
      "218/218 [==============================] - 61s 281ms/step - loss: 0.0943 - accuracy: 0.9638 - val_loss: 0.2636 - val_accuracy: 0.9215\n",
      "Epoch 43/100\n",
      "218/218 [==============================] - 63s 289ms/step - loss: 0.0911 - accuracy: 0.9653 - val_loss: 0.3980 - val_accuracy: 0.8942\n",
      "Epoch 44/100\n",
      "218/218 [==============================] - 63s 290ms/step - loss: 0.0877 - accuracy: 0.9678 - val_loss: 0.2796 - val_accuracy: 0.9247\n",
      "Epoch 45/100\n",
      "218/218 [==============================] - 65s 299ms/step - loss: 0.0891 - accuracy: 0.9657 - val_loss: 0.3771 - val_accuracy: 0.8926\n",
      "Epoch 46/100\n",
      "218/218 [==============================] - 66s 304ms/step - loss: 0.0850 - accuracy: 0.9688 - val_loss: 0.2525 - val_accuracy: 0.9183\n",
      "Epoch 47/100\n",
      "218/218 [==============================] - 62s 284ms/step - loss: 0.0841 - accuracy: 0.9689 - val_loss: 0.4409 - val_accuracy: 0.8654\n",
      "Epoch 48/100\n",
      "218/218 [==============================] - 63s 287ms/step - loss: 0.0926 - accuracy: 0.9626 - val_loss: 0.4436 - val_accuracy: 0.8878\n",
      "Epoch 49/100\n",
      "218/218 [==============================] - 63s 291ms/step - loss: 0.0811 - accuracy: 0.9691 - val_loss: 0.3484 - val_accuracy: 0.8958\n",
      "Epoch 50/100\n",
      "218/218 [==============================] - 62s 284ms/step - loss: 0.0838 - accuracy: 0.9680 - val_loss: 0.2995 - val_accuracy: 0.9038\n",
      "Epoch 51/100\n",
      "218/218 [==============================] - 62s 283ms/step - loss: 0.0837 - accuracy: 0.9663 - val_loss: 0.2305 - val_accuracy: 0.9135\n",
      "Epoch 52/100\n",
      "218/218 [==============================] - 61s 280ms/step - loss: 0.0811 - accuracy: 0.9670 - val_loss: 0.6656 - val_accuracy: 0.8333\n",
      "Epoch 53/100\n"
     ]
    },
    {
     "name": "stdout",
     "output_type": "stream",
     "text": [
      "218/218 [==============================] - 62s 282ms/step - loss: 0.0809 - accuracy: 0.9711 - val_loss: 0.3571 - val_accuracy: 0.9119\n",
      "Epoch 54/100\n",
      "218/218 [==============================] - 63s 287ms/step - loss: 0.0833 - accuracy: 0.9689 - val_loss: 0.3290 - val_accuracy: 0.9103\n",
      "Epoch 55/100\n",
      "218/218 [==============================] - 63s 291ms/step - loss: 0.0803 - accuracy: 0.9684 - val_loss: 0.2927 - val_accuracy: 0.9054\n",
      "Epoch 56/100\n",
      "218/218 [==============================] - 61s 282ms/step - loss: 0.0748 - accuracy: 0.9695 - val_loss: 0.4040 - val_accuracy: 0.8942\n",
      "Epoch 57/100\n",
      "218/218 [==============================] - 62s 285ms/step - loss: 0.0778 - accuracy: 0.9699 - val_loss: 0.4555 - val_accuracy: 0.8926\n",
      "Epoch 58/100\n",
      "218/218 [==============================] - 64s 292ms/step - loss: 0.0776 - accuracy: 0.9714 - val_loss: 0.3733 - val_accuracy: 0.8878\n",
      "Epoch 59/100\n",
      "218/218 [==============================] - 65s 297ms/step - loss: 0.0715 - accuracy: 0.9745 - val_loss: 0.4647 - val_accuracy: 0.8766\n",
      "Epoch 60/100\n",
      "218/218 [==============================] - 66s 303ms/step - loss: 0.0702 - accuracy: 0.9711 - val_loss: 0.2579 - val_accuracy: 0.9135\n",
      "Epoch 61/100\n",
      "218/218 [==============================] - 69s 316ms/step - loss: 0.0736 - accuracy: 0.9722 - val_loss: 0.2996 - val_accuracy: 0.9151\n",
      "Epoch 62/100\n",
      "218/218 [==============================] - 68s 312ms/step - loss: 0.0776 - accuracy: 0.9699 - val_loss: 0.3316 - val_accuracy: 0.9038\n",
      "Epoch 63/100\n",
      "218/218 [==============================] - 68s 314ms/step - loss: 0.0761 - accuracy: 0.9743 - val_loss: 0.3477 - val_accuracy: 0.9054\n",
      "Epoch 64/100\n",
      "218/218 [==============================] - 67s 309ms/step - loss: 0.0705 - accuracy: 0.9741 - val_loss: 0.2969 - val_accuracy: 0.9006\n",
      "Epoch 65/100\n",
      "218/218 [==============================] - 65s 297ms/step - loss: 0.0677 - accuracy: 0.9737 - val_loss: 0.3040 - val_accuracy: 0.9071\n",
      "Epoch 66/100\n",
      "218/218 [==============================] - 64s 292ms/step - loss: 0.0711 - accuracy: 0.9730 - val_loss: 0.3005 - val_accuracy: 0.9038\n",
      "Epoch 67/100\n",
      "218/218 [==============================] - 62s 285ms/step - loss: 0.0717 - accuracy: 0.9726 - val_loss: 0.3352 - val_accuracy: 0.9151\n",
      "Epoch 68/100\n",
      "218/218 [==============================] - 63s 290ms/step - loss: 0.0718 - accuracy: 0.9735 - val_loss: 0.4176 - val_accuracy: 0.8830\n",
      "Epoch 69/100\n",
      "218/218 [==============================] - 64s 294ms/step - loss: 0.0670 - accuracy: 0.9724 - val_loss: 0.3648 - val_accuracy: 0.8750\n",
      "Epoch 70/100\n",
      "218/218 [==============================] - 74s 338ms/step - loss: 0.0627 - accuracy: 0.9749 - val_loss: 0.3330 - val_accuracy: 0.9103\n",
      "Epoch 71/100\n",
      "218/218 [==============================] - 69s 318ms/step - loss: 0.0691 - accuracy: 0.9776 - val_loss: 0.2702 - val_accuracy: 0.9054\n",
      "Epoch 72/100\n",
      "218/218 [==============================] - 66s 302ms/step - loss: 0.0728 - accuracy: 0.9716 - val_loss: 0.3970 - val_accuracy: 0.8942\n",
      "Epoch 73/100\n",
      "218/218 [==============================] - 67s 305ms/step - loss: 0.0707 - accuracy: 0.9728 - val_loss: 0.3527 - val_accuracy: 0.8942\n",
      "Epoch 74/100\n",
      "218/218 [==============================] - 68s 311ms/step - loss: 0.0711 - accuracy: 0.9718 - val_loss: 0.2268 - val_accuracy: 0.9247\n",
      "Epoch 75/100\n",
      "218/218 [==============================] - 65s 299ms/step - loss: 0.0663 - accuracy: 0.9747 - val_loss: 0.3010 - val_accuracy: 0.9103\n",
      "Epoch 76/100\n",
      "218/218 [==============================] - 65s 300ms/step - loss: 0.0634 - accuracy: 0.9741 - val_loss: 0.2893 - val_accuracy: 0.9151\n",
      "Epoch 77/100\n",
      "218/218 [==============================] - 64s 295ms/step - loss: 0.0657 - accuracy: 0.9770 - val_loss: 0.2602 - val_accuracy: 0.9087\n",
      "Epoch 78/100\n",
      "218/218 [==============================] - 63s 289ms/step - loss: 0.0650 - accuracy: 0.9743 - val_loss: 0.2973 - val_accuracy: 0.9183\n",
      "Epoch 79/100\n",
      "218/218 [==============================] - 64s 294ms/step - loss: 0.0576 - accuracy: 0.9772 - val_loss: 0.4322 - val_accuracy: 0.8894\n",
      "Epoch 80/100\n",
      "218/218 [==============================] - 65s 298ms/step - loss: 0.0632 - accuracy: 0.9783 - val_loss: 0.2407 - val_accuracy: 0.9119\n",
      "Epoch 81/100\n",
      "218/218 [==============================] - 66s 303ms/step - loss: 0.0728 - accuracy: 0.9720 - val_loss: 0.2197 - val_accuracy: 0.9311\n",
      "Epoch 82/100\n",
      "218/218 [==============================] - 66s 302ms/step - loss: 0.0607 - accuracy: 0.9770 - val_loss: 0.3205 - val_accuracy: 0.9071\n",
      "Epoch 83/100\n",
      "218/218 [==============================] - 63s 287ms/step - loss: 0.0559 - accuracy: 0.9789 - val_loss: 0.3491 - val_accuracy: 0.9167\n",
      "Epoch 84/100\n",
      "218/218 [==============================] - 66s 301ms/step - loss: 0.0588 - accuracy: 0.9774 - val_loss: 0.2831 - val_accuracy: 0.9215\n",
      "Epoch 85/100\n",
      "218/218 [==============================] - 67s 305ms/step - loss: 0.0612 - accuracy: 0.9780 - val_loss: 0.3502 - val_accuracy: 0.9022\n",
      "Epoch 86/100\n",
      "218/218 [==============================] - 65s 298ms/step - loss: 0.0585 - accuracy: 0.9772 - val_loss: 0.2806 - val_accuracy: 0.9135\n",
      "Epoch 87/100\n",
      "218/218 [==============================] - 65s 298ms/step - loss: 0.0557 - accuracy: 0.9791 - val_loss: 0.3309 - val_accuracy: 0.8878\n",
      "Epoch 88/100\n",
      "218/218 [==============================] - 63s 288ms/step - loss: 0.0591 - accuracy: 0.9789 - val_loss: 0.3652 - val_accuracy: 0.8990\n",
      "Epoch 89/100\n",
      "218/218 [==============================] - 65s 296ms/step - loss: 0.0583 - accuracy: 0.9789 - val_loss: 0.2905 - val_accuracy: 0.9231\n",
      "Epoch 90/100\n",
      "218/218 [==============================] - 67s 307ms/step - loss: 0.0537 - accuracy: 0.9803 - val_loss: 0.3287 - val_accuracy: 0.9087\n",
      "Epoch 91/100\n",
      "218/218 [==============================] - 68s 313ms/step - loss: 0.0582 - accuracy: 0.9785 - val_loss: 0.2945 - val_accuracy: 0.9054\n",
      "Epoch 92/100\n",
      "218/218 [==============================] - 66s 303ms/step - loss: 0.0635 - accuracy: 0.9778 - val_loss: 0.2945 - val_accuracy: 0.9071\n",
      "Epoch 93/100\n",
      "218/218 [==============================] - 66s 301ms/step - loss: 0.0492 - accuracy: 0.9803 - val_loss: 0.2880 - val_accuracy: 0.9167\n",
      "Epoch 94/100\n",
      "218/218 [==============================] - 66s 303ms/step - loss: 0.0623 - accuracy: 0.9770 - val_loss: 0.3814 - val_accuracy: 0.8862\n",
      "Epoch 95/100\n",
      "218/218 [==============================] - 64s 294ms/step - loss: 0.0515 - accuracy: 0.9808 - val_loss: 0.3123 - val_accuracy: 0.9103\n",
      "Epoch 96/100\n",
      "218/218 [==============================] - 65s 297ms/step - loss: 0.0516 - accuracy: 0.9818 - val_loss: 0.3407 - val_accuracy: 0.9135\n",
      "Epoch 97/100\n",
      "218/218 [==============================] - 64s 295ms/step - loss: 0.0494 - accuracy: 0.9818 - val_loss: 0.3797 - val_accuracy: 0.8974\n",
      "Epoch 98/100\n",
      "218/218 [==============================] - 66s 304ms/step - loss: 0.0490 - accuracy: 0.9831 - val_loss: 0.3528 - val_accuracy: 0.9022\n",
      "Epoch 99/100\n",
      "218/218 [==============================] - 65s 298ms/step - loss: 0.0564 - accuracy: 0.9810 - val_loss: 0.2733 - val_accuracy: 0.8990\n",
      "Epoch 100/100\n",
      "218/218 [==============================] - 63s 291ms/step - loss: 0.0527 - accuracy: 0.9801 - val_loss: 0.3478 - val_accuracy: 0.9038\n",
      "WARNING:tensorflow:From <ipython-input-3-aca65f6958a0>:22: Model.evaluate_generator (from tensorflow.python.keras.engine.training) is deprecated and will be removed in a future version.\n",
      "Instructions for updating:\n",
      "Please use Model.evaluate, which supports generators.\n",
      "WARNING:tensorflow:sample_weight modes were coerced from\n",
      "  ...\n",
      "    to  \n",
      "  ['...']\n",
      "The testing accuracy is : 90.38461446762085 %\n"
     ]
    }
   ],
   "source": [
    "train_datagen = ImageDataGenerator(rescale=1. / 255,\n",
    "                                   shear_range=0.2,\n",
    "                                   zoom_range=0.2,\n",
    "                                   horizontal_flip=True)\n",
    "\n",
    "test_datagen = ImageDataGenerator(rescale=1. / 255)\n",
    "\n",
    "training_set = train_datagen.flow_from_directory('chest_xray/train',\n",
    "                                                 target_size=(64, 64),\n",
    "                                                 batch_size=24,\n",
    "                                                 class_mode='binary')\n",
    "\n",
    "test_set = test_datagen.flow_from_directory('chest_xray/test',\n",
    "                                            target_size=(64, 64),\n",
    "                                            batch_size=24,\n",
    "                                            class_mode='binary')\n",
    "\n",
    "result = classifier.fit_generator(training_set,\n",
    "                         epochs=100,\n",
    "                         validation_data=test_set)\n",
    "\n",
    "test_accu = classifier.evaluate_generator(test_set)\n",
    "\n",
    "print('The testing accuracy is :', test_accu[1] * 100, '%')"
   ]
  },
  {
   "cell_type": "code",
   "execution_count": 7,
   "metadata": {
    "pycharm": {
     "is_executing": true,
     "name": "#%%\n"
    }
   },
   "outputs": [
    {
     "data": {
      "image/png": "[encoded data removed]",
      "text/plain": [
       "<Figure size 432x288 with 1 Axes>"
      ]
     },
     "metadata": {
      "needs_background": "light"
     },
     "output_type": "display_data"
    }
   ],
   "source": [
    "result\n",
    "plt.plot(result.history['accuracy'])\n",
    "plt.plot(result.history['val_accuracy'])\n",
    "plt.title('Model Accuracy')\n",
    "plt.ylabel('Accuracy')\n",
    "plt.xlabel('Epoch')\n",
    "plt.legend(['Training set', 'Validation set'], loc='upper left')\n",
    "plt.show()"
   ]
  },
  {
   "cell_type": "code",
   "execution_count": 6,
   "metadata": {},
   "outputs": [
    {
     "data": {
      "text/plain": [
       "<tensorflow.python.keras.callbacks.History at 0x25cc38aa3c8>"
      ]
     },
     "execution_count": 6,
     "metadata": {},
     "output_type": "execute_result"
    }
   ],
   "source": [
    "result\n"
   ]
  }
 ],
 "metadata": {
  "kernelspec": {
   "display_name": "Python 3",
   "language": "python",
   "name": "python3"
  },
  "language_info": {
   "codemirror_mode": {
    "name": "ipython",
    "version": 3
   },
   "file_extension": ".py",
   "mimetype": "text/x-python",
   "name": "python",
   "nbconvert_exporter": "python",
   "pygments_lexer": "ipython3",
   "version": "3.6.5"
  },
  "pycharm": {
   "stem_cell": {
    "cell_type": "raw",
    "metadata": {
     "collapsed": false
    },
    "source": []
   }
  }
 },
 "nbformat": 4,
 "nbformat_minor": 4
}
